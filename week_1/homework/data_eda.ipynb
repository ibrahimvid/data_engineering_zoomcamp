{
 "cells": [
  {
   "cell_type": "code",
   "execution_count": 1,
   "metadata": {},
   "outputs": [],
   "source": [
    "import pandas as pd"
   ]
  },
  {
   "cell_type": "code",
   "execution_count": 2,
   "metadata": {},
   "outputs": [
    {
     "name": "stdout",
     "output_type": "stream",
     "text": [
      "<class 'pandas.core.frame.DataFrame'>\n",
      "RangeIndex: 630918 entries, 0 to 630917\n",
      "Data columns (total 20 columns):\n",
      " #   Column                 Non-Null Count   Dtype  \n",
      "---  ------                 --------------   -----  \n",
      " 0   VendorID               630918 non-null  int64  \n",
      " 1   lpep_pickup_datetime   630918 non-null  object \n",
      " 2   lpep_dropoff_datetime  630918 non-null  object \n",
      " 3   store_and_fwd_flag     630918 non-null  object \n",
      " 4   RatecodeID             630918 non-null  int64  \n",
      " 5   PULocationID           630918 non-null  int64  \n",
      " 6   DOLocationID           630918 non-null  int64  \n",
      " 7   passenger_count        630918 non-null  int64  \n",
      " 8   trip_distance          630918 non-null  float64\n",
      " 9   fare_amount            630918 non-null  float64\n",
      " 10  extra                  630918 non-null  float64\n",
      " 11  mta_tax                630918 non-null  float64\n",
      " 12  tip_amount             630918 non-null  float64\n",
      " 13  tolls_amount           630918 non-null  float64\n",
      " 14  ehail_fee              0 non-null       float64\n",
      " 15  improvement_surcharge  630918 non-null  float64\n",
      " 16  total_amount           630918 non-null  float64\n",
      " 17  payment_type           630918 non-null  int64  \n",
      " 18  trip_type              630918 non-null  int64  \n",
      " 19  congestion_surcharge   84538 non-null   float64\n",
      "dtypes: float64(10), int64(7), object(3)\n",
      "memory usage: 96.3+ MB\n"
     ]
    }
   ],
   "source": [
    "green_taxi = pd.read_csv(\"green_tripdata_2019-01.csv.gz\")\n",
    "green_taxi.info()"
   ]
  },
  {
   "cell_type": "code",
   "execution_count": 3,
   "metadata": {},
   "outputs": [
    {
     "name": "stdout",
     "output_type": "stream",
     "text": [
      "<class 'pandas.core.frame.DataFrame'>\n",
      "RangeIndex: 265 entries, 0 to 264\n",
      "Data columns (total 4 columns):\n",
      " #   Column        Non-Null Count  Dtype \n",
      "---  ------        --------------  ----- \n",
      " 0   LocationID    265 non-null    int64 \n",
      " 1   Borough       265 non-null    object\n",
      " 2   Zone          264 non-null    object\n",
      " 3   service_zone  263 non-null    object\n",
      "dtypes: int64(1), object(3)\n",
      "memory usage: 8.4+ KB\n"
     ]
    }
   ],
   "source": [
    "zones = pd.read_csv(\"taxi+_zone_lookup.csv\")\n",
    "zones.info()"
   ]
  }
 ],
 "metadata": {
  "kernelspec": {
   "display_name": "ny_taxi",
   "language": "python",
   "name": "python3"
  },
  "language_info": {
   "codemirror_mode": {
    "name": "ipython",
    "version": 3
   },
   "file_extension": ".py",
   "mimetype": "text/x-python",
   "name": "python",
   "nbconvert_exporter": "python",
   "pygments_lexer": "ipython3",
   "version": "3.11.0"
  },
  "orig_nbformat": 4,
  "vscode": {
   "interpreter": {
    "hash": "2a2a71f7937e6ac97bbb9b27cdc1c83ac3e11ad2b67a0d130bfe69b9119b3781"
   }
  }
 },
 "nbformat": 4,
 "nbformat_minor": 2
}
